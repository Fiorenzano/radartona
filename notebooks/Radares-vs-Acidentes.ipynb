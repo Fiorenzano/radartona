{
 "cells": [
  {
   "cell_type": "markdown",
   "metadata": {},
   "source": [
    "### Arquivos"
   ]
  },
  {
   "cell_type": "markdown",
   "metadata": {},
   "source": [
    "Acidentes"
   ]
  },
  {
   "cell_type": "code",
   "execution_count": 1,
   "metadata": {},
   "outputs": [],
   "source": [
    "import pandas as pd\n",
    "import geopandas as gpd"
   ]
  },
  {
   "cell_type": "code",
   "execution_count": 2,
   "metadata": {},
   "outputs": [
    {
     "data": {
      "text/html": [
       "<div>\n",
       "<style scoped>\n",
       "    .dataframe tbody tr th:only-of-type {\n",
       "        vertical-align: middle;\n",
       "    }\n",
       "\n",
       "    .dataframe tbody tr th {\n",
       "        vertical-align: top;\n",
       "    }\n",
       "\n",
       "    .dataframe thead th {\n",
       "        text-align: right;\n",
       "    }\n",
       "</style>\n",
       "<table border=\"1\" class=\"dataframe\">\n",
       "  <thead>\n",
       "    <tr style=\"text-align: right;\">\n",
       "      <th></th>\n",
       "      <th>id_acidente</th>\n",
       "      <th>cadlogA</th>\n",
       "      <th>nomeA</th>\n",
       "      <th>cadlogB</th>\n",
       "      <th>nomeB</th>\n",
       "      <th>alt_num</th>\n",
       "      <th>referencia</th>\n",
       "      <th>data</th>\n",
       "      <th>hora</th>\n",
       "      <th>CodigoAcidente</th>\n",
       "      <th>...</th>\n",
       "      <th>distrito</th>\n",
       "      <th>princ_a</th>\n",
       "      <th>princ_b</th>\n",
       "      <th>TipoAcidente</th>\n",
       "      <th>latitude</th>\n",
       "      <th>longitude</th>\n",
       "      <th>geocoding</th>\n",
       "      <th>obstaculo</th>\n",
       "      <th>observacao</th>\n",
       "      <th>ocorrenciaPolicial</th>\n",
       "    </tr>\n",
       "  </thead>\n",
       "  <tbody>\n",
       "    <tr>\n",
       "      <th>0</th>\n",
       "      <td>D021800002</td>\n",
       "      <td>12326</td>\n",
       "      <td>JUSCELINO KUBITSCHEK, AV  PRES</td>\n",
       "      <td></td>\n",
       "      <td>NaN</td>\n",
       "      <td>2041</td>\n",
       "      <td></td>\n",
       "      <td>24/02/2018</td>\n",
       "      <td>07:54</td>\n",
       "      <td>com vítima</td>\n",
       "      <td>...</td>\n",
       "      <td>35</td>\n",
       "      <td>12326</td>\n",
       "      <td>NaN</td>\n",
       "      <td>Colisão</td>\n",
       "      <td>-23.5911</td>\n",
       "      <td>-46.6884</td>\n",
       "      <td>NaN</td>\n",
       "      <td>NaN</td>\n",
       "      <td>NaN</td>\n",
       "      <td>NaN</td>\n",
       "    </tr>\n",
       "    <tr>\n",
       "      <th>1</th>\n",
       "      <td>D021800003</td>\n",
       "      <td>18151</td>\n",
       "      <td>SEZEFREDO FAGUNDES, AV  CEL</td>\n",
       "      <td></td>\n",
       "      <td>NaN</td>\n",
       "      <td>2223</td>\n",
       "      <td></td>\n",
       "      <td>22/02/2018</td>\n",
       "      <td>16:34</td>\n",
       "      <td>com vítima</td>\n",
       "      <td>...</td>\n",
       "      <td>81</td>\n",
       "      <td>18151</td>\n",
       "      <td>NaN</td>\n",
       "      <td>Colisão lateral</td>\n",
       "      <td>-23.4197</td>\n",
       "      <td>-46.5882</td>\n",
       "      <td>NaN</td>\n",
       "      <td>NaN</td>\n",
       "      <td>NaN</td>\n",
       "      <td>NaN</td>\n",
       "    </tr>\n",
       "    <tr>\n",
       "      <th>2</th>\n",
       "      <td>D021800007</td>\n",
       "      <td>10785</td>\n",
       "      <td>JOSE ARTUR NOVA, AV  DR</td>\n",
       "      <td></td>\n",
       "      <td>NaN</td>\n",
       "      <td>300</td>\n",
       "      <td></td>\n",
       "      <td>26/02/2018</td>\n",
       "      <td>13:30</td>\n",
       "      <td>atropelamento</td>\n",
       "      <td>...</td>\n",
       "      <td>74</td>\n",
       "      <td>10785</td>\n",
       "      <td>NaN</td>\n",
       "      <td>Atropelamento</td>\n",
       "      <td>-23.4903</td>\n",
       "      <td>-46.4377</td>\n",
       "      <td>NaN</td>\n",
       "      <td>NaN</td>\n",
       "      <td>NaN</td>\n",
       "      <td>NaN</td>\n",
       "    </tr>\n",
       "    <tr>\n",
       "      <th>3</th>\n",
       "      <td>D021800010</td>\n",
       "      <td>3454</td>\n",
       "      <td>BOM PASTOR, RUA</td>\n",
       "      <td></td>\n",
       "      <td>NaN</td>\n",
       "      <td>100</td>\n",
       "      <td></td>\n",
       "      <td>23/02/2018</td>\n",
       "      <td>09:44</td>\n",
       "      <td>com vítima</td>\n",
       "      <td>...</td>\n",
       "      <td>34</td>\n",
       "      <td>3454</td>\n",
       "      <td>NaN</td>\n",
       "      <td>Colisão lateral</td>\n",
       "      <td>-23.5775</td>\n",
       "      <td>-46.6083</td>\n",
       "      <td>NaN</td>\n",
       "      <td>NaN</td>\n",
       "      <td>NaN</td>\n",
       "      <td>NaN</td>\n",
       "    </tr>\n",
       "    <tr>\n",
       "      <th>4</th>\n",
       "      <td>D021800011</td>\n",
       "      <td>779</td>\n",
       "      <td>ALMEIDA COUTO, RUA PRES</td>\n",
       "      <td>05438</td>\n",
       "      <td>COSTA PEREIRA, RUA PRES</td>\n",
       "      <td>0</td>\n",
       "      <td></td>\n",
       "      <td>14/02/2018</td>\n",
       "      <td>17:10</td>\n",
       "      <td>com vítima</td>\n",
       "      <td>...</td>\n",
       "      <td>14</td>\n",
       "      <td>779</td>\n",
       "      <td>5438.0</td>\n",
       "      <td>Choque</td>\n",
       "      <td>-23.5646</td>\n",
       "      <td>-46.6078</td>\n",
       "      <td>NaN</td>\n",
       "      <td>PI</td>\n",
       "      <td>NaN</td>\n",
       "      <td>NaN</td>\n",
       "    </tr>\n",
       "  </tbody>\n",
       "</table>\n",
       "<p>5 rows × 37 columns</p>\n",
       "</div>"
      ],
      "text/plain": [
       "  id_acidente  cadlogA                            nomeA cadlogB  \\\n",
       "0  D021800002    12326  JUSCELINO KUBITSCHEK, AV  PRES            \n",
       "1  D021800003    18151    SEZEFREDO FAGUNDES, AV  CEL             \n",
       "2  D021800007    10785       JOSE ARTUR NOVA, AV  DR              \n",
       "3  D021800010     3454                  BOM PASTOR, RUA           \n",
       "4  D021800011      779         ALMEIDA COUTO, RUA PRES    05438   \n",
       "\n",
       "                      nomeB  alt_num       referencia        data   hora  \\\n",
       "0                       NaN     2041                   24/02/2018  07:54   \n",
       "1                       NaN     2223                   22/02/2018  16:34   \n",
       "2                       NaN      300                   26/02/2018  13:30   \n",
       "3                       NaN      100                   23/02/2018  09:44   \n",
       "4  COSTA PEREIRA, RUA PRES         0                   14/02/2018  17:10   \n",
       "\n",
       "  CodigoAcidente  ...  distrito  princ_a  princ_b     TipoAcidente  latitude  \\\n",
       "0     com vítima  ...        35    12326      NaN          Colisão  -23.5911   \n",
       "1     com vítima  ...        81    18151      NaN  Colisão lateral  -23.4197   \n",
       "2  atropelamento  ...        74    10785      NaN    Atropelamento  -23.4903   \n",
       "3     com vítima  ...        34     3454      NaN  Colisão lateral  -23.5775   \n",
       "4     com vítima  ...        14      779   5438.0           Choque  -23.5646   \n",
       "\n",
       "   longitude  geocoding  obstaculo  observacao  ocorrenciaPolicial  \n",
       "0   -46.6884        NaN        NaN         NaN                 NaN  \n",
       "1   -46.5882        NaN        NaN         NaN                 NaN  \n",
       "2   -46.4377        NaN        NaN         NaN                 NaN  \n",
       "3   -46.6083        NaN        NaN         NaN                 NaN  \n",
       "4   -46.6078        NaN         PI         NaN                 NaN  \n",
       "\n",
       "[5 rows x 37 columns]"
      ]
     },
     "execution_count": 2,
     "metadata": {},
     "output_type": "execute_result"
    }
   ],
   "source": [
    "acidentes = pd.read_csv('../incidentes/acidentes.csv', delimiter=';')\n",
    "acidentes.head()"
   ]
  },
  {
   "cell_type": "code",
   "execution_count": 3,
   "metadata": {},
   "outputs": [
    {
     "data": {
      "text/plain": [
       "Index(['id_acidente', 'cadlogA', 'nomeA', 'cadlogB', 'nomeB', 'alt_num',\n",
       "       'referencia', 'data', 'hora', 'CodigoAcidente', 'dp', 'bo', 'automovel',\n",
       "       'moto', 'onibus', 'caminhao', 'bicicleta', 'onibus_fretado',\n",
       "       'onibus_urbano', 'microonibus', 'caminhonete', 'carroca', 'outros',\n",
       "       'sem_informacao', 'ferida', 'obito', 'det', 'distrito', 'princ_a',\n",
       "       'princ_b', 'TipoAcidente', 'latitude', 'longitude', 'geocoding',\n",
       "       'obstaculo', 'observacao', 'ocorrenciaPolicial'],\n",
       "      dtype='object')"
      ]
     },
     "execution_count": 3,
     "metadata": {},
     "output_type": "execute_result"
    }
   ],
   "source": [
    "assert len(acidentes) == len(acidentes.id_acidente.unique())\n",
    "acidentes.columns"
   ]
  },
  {
   "cell_type": "code",
   "execution_count": 4,
   "metadata": {},
   "outputs": [
    {
     "data": {
      "text/plain": [
       "999"
      ]
     },
     "execution_count": 4,
     "metadata": {},
     "output_type": "execute_result"
    }
   ],
   "source": [
    "acidentes = acidentes[~acidentes.latitude.isnull() & ~acidentes.longitude.isnull()]\n",
    "len(acidentes)"
   ]
  },
  {
   "cell_type": "markdown",
   "metadata": {},
   "source": [
    "Radares"
   ]
  },
  {
   "cell_type": "code",
   "execution_count": 5,
   "metadata": {},
   "outputs": [
    {
     "data": {
      "text/html": [
       "<div>\n",
       "<style scoped>\n",
       "    .dataframe tbody tr th:only-of-type {\n",
       "        vertical-align: middle;\n",
       "    }\n",
       "\n",
       "    .dataframe tbody tr th {\n",
       "        vertical-align: top;\n",
       "    }\n",
       "\n",
       "    .dataframe thead th {\n",
       "        text-align: right;\n",
       "    }\n",
       "</style>\n",
       "<table border=\"1\" class=\"dataframe\">\n",
       "  <thead>\n",
       "    <tr style=\"text-align: right;\">\n",
       "      <th></th>\n",
       "      <th>gid</th>\n",
       "      <th>id</th>\n",
       "      <th>lote</th>\n",
       "      <th>codigo</th>\n",
       "      <th>endereco</th>\n",
       "      <th>sentido</th>\n",
       "      <th>referencia</th>\n",
       "      <th>tipo_equip</th>\n",
       "      <th>enquadrame</th>\n",
       "      <th>qtde_fxs_f</th>\n",
       "      <th>...</th>\n",
       "      <th>ligado</th>\n",
       "      <th>data_desli</th>\n",
       "      <th>motivo_des</th>\n",
       "      <th>mi_style</th>\n",
       "      <th>mi_prinx</th>\n",
       "      <th>geom</th>\n",
       "      <th>emme_gid</th>\n",
       "      <th>mdc_gid</th>\n",
       "      <th>autuacoes</th>\n",
       "      <th>contagem</th>\n",
       "    </tr>\n",
       "  </thead>\n",
       "  <tbody>\n",
       "    <tr>\n",
       "      <th>0</th>\n",
       "      <td>174</td>\n",
       "      <td>11</td>\n",
       "      <td>1</td>\n",
       "      <td>6666</td>\n",
       "      <td>Av. Bráz Leme</td>\n",
       "      <td>Santana/Marginal</td>\n",
       "      <td>nº. 1.315</td>\n",
       "      <td>Fixo - Grupo A</td>\n",
       "      <td>V</td>\n",
       "      <td>3</td>\n",
       "      <td>...</td>\n",
       "      <td>1</td>\n",
       "      <td>NaN</td>\n",
       "      <td>NaN</td>\n",
       "      <td>Symbol (62,19424,12,\"MapInfo Transportation\",2...</td>\n",
       "      <td>266</td>\n",
       "      <td>0101000020E6100000FA7BA503C45247C0F6F8EF87C081...</td>\n",
       "      <td>2153</td>\n",
       "      <td>214599</td>\n",
       "      <td>624849</td>\n",
       "      <td>735</td>\n",
       "    </tr>\n",
       "    <tr>\n",
       "      <th>1</th>\n",
       "      <td>172</td>\n",
       "      <td>12</td>\n",
       "      <td>1</td>\n",
       "      <td>6667</td>\n",
       "      <td>Av. Engº. Caetano Alvares</td>\n",
       "      <td>Bairro/Centro</td>\n",
       "      <td>nº. 4.339</td>\n",
       "      <td>Fixo - Grupo A</td>\n",
       "      <td>V</td>\n",
       "      <td>2</td>\n",
       "      <td>...</td>\n",
       "      <td>1</td>\n",
       "      <td>NaN</td>\n",
       "      <td>NaN</td>\n",
       "      <td>Symbol (62,19424,12,\"MapInfo Transportation\",2...</td>\n",
       "      <td>264</td>\n",
       "      <td>0101000020E610000035DD8009BB5247C0293CAA92AF7C...</td>\n",
       "      <td>24608</td>\n",
       "      <td>125015</td>\n",
       "      <td>1237180</td>\n",
       "      <td>1794</td>\n",
       "    </tr>\n",
       "    <tr>\n",
       "      <th>2</th>\n",
       "      <td>517</td>\n",
       "      <td>13</td>\n",
       "      <td>1</td>\n",
       "      <td>6742 - 6743 - 6796 - 6797</td>\n",
       "      <td>Marg. Tietê, Pista Expressa</td>\n",
       "      <td>Castelo Branco/Ayrton Senna</td>\n",
       "      <td>a menos 167m da Ponte Presidente Jânio Quadros</td>\n",
       "      <td>Fixo - Grupo A</td>\n",
       "      <td>V-R-Z</td>\n",
       "      <td>4</td>\n",
       "      <td>...</td>\n",
       "      <td>1</td>\n",
       "      <td>NaN</td>\n",
       "      <td>NaN</td>\n",
       "      <td>Symbol (62,19424,12,\"MapInfo Transportation\",2...</td>\n",
       "      <td>625</td>\n",
       "      <td>0101000020E6100000B0ACD1FE494C47C01B2C5A882787...</td>\n",
       "      <td>2702</td>\n",
       "      <td>249720</td>\n",
       "      <td>4636874</td>\n",
       "      <td>17838</td>\n",
       "    </tr>\n",
       "    <tr>\n",
       "      <th>3</th>\n",
       "      <td>533</td>\n",
       "      <td>14</td>\n",
       "      <td>1</td>\n",
       "      <td>6754 - 6753 - 6907-6908</td>\n",
       "      <td>Marg. Tietê, Pista Expressa</td>\n",
       "      <td>Castelo Branco/Ayrton Senna</td>\n",
       "      <td>a menos 31m Ponte Vila Guilherme</td>\n",
       "      <td>Fixo - Grupo A</td>\n",
       "      <td>V-R-PR-VER</td>\n",
       "      <td>4</td>\n",
       "      <td>...</td>\n",
       "      <td>1</td>\n",
       "      <td>NaN</td>\n",
       "      <td>NaN</td>\n",
       "      <td>Symbol (62,19424,12,\"MapInfo Transportation\",2...</td>\n",
       "      <td>643</td>\n",
       "      <td>0101000020E61000000F792E004B4E47C0A5F14DCBF685...</td>\n",
       "      <td>13470</td>\n",
       "      <td>242953</td>\n",
       "      <td>5705694</td>\n",
       "      <td>26202</td>\n",
       "    </tr>\n",
       "    <tr>\n",
       "      <th>4</th>\n",
       "      <td>526</td>\n",
       "      <td>15</td>\n",
       "      <td>1</td>\n",
       "      <td>6672 - 6671 - 6881- 6906</td>\n",
       "      <td>Marg. Tietê, Pista Expressa</td>\n",
       "      <td>Castelo Branco/Ayrton Senna</td>\n",
       "      <td>a menos 206m Ponte Freguesia do Ó</td>\n",
       "      <td>Fixo - Grupo A</td>\n",
       "      <td>V-R-Z-PR</td>\n",
       "      <td>4</td>\n",
       "      <td>...</td>\n",
       "      <td>1</td>\n",
       "      <td>NaN</td>\n",
       "      <td>NaN</td>\n",
       "      <td>Symbol (62,19424,12,\"MapInfo Transportation\",2...</td>\n",
       "      <td>635</td>\n",
       "      <td>0101000020E61000008005B49D845847C04EED0C535B82...</td>\n",
       "      <td>13033</td>\n",
       "      <td>187821</td>\n",
       "      <td>3806068</td>\n",
       "      <td>18407</td>\n",
       "    </tr>\n",
       "  </tbody>\n",
       "</table>\n",
       "<p>5 rows × 23 columns</p>\n",
       "</div>"
      ],
      "text/plain": [
       "   gid  id  lote                     codigo                     endereco  \\\n",
       "0  174  11     1                       6666                Av. Bráz Leme   \n",
       "1  172  12     1                       6667    Av. Engº. Caetano Alvares   \n",
       "2  517  13     1  6742 - 6743 - 6796 - 6797  Marg. Tietê, Pista Expressa   \n",
       "3  533  14     1    6754 - 6753 - 6907-6908  Marg. Tietê, Pista Expressa   \n",
       "4  526  15     1   6672 - 6671 - 6881- 6906  Marg. Tietê, Pista Expressa   \n",
       "\n",
       "                       sentido  \\\n",
       "0             Santana/Marginal   \n",
       "1                Bairro/Centro   \n",
       "2  Castelo Branco/Ayrton Senna   \n",
       "3  Castelo Branco/Ayrton Senna   \n",
       "4  Castelo Branco/Ayrton Senna   \n",
       "\n",
       "                                       referencia      tipo_equip  enquadrame  \\\n",
       "0                                       nº. 1.315  Fixo - Grupo A           V   \n",
       "1                                       nº. 4.339  Fixo - Grupo A           V   \n",
       "2  a menos 167m da Ponte Presidente Jânio Quadros  Fixo - Grupo A       V-R-Z   \n",
       "3                a menos 31m Ponte Vila Guilherme  Fixo - Grupo A  V-R-PR-VER   \n",
       "4               a menos 206m Ponte Freguesia do Ó  Fixo - Grupo A    V-R-Z-PR   \n",
       "\n",
       "   qtde_fxs_f  ... ligado data_desli motivo_des  \\\n",
       "0           3  ...      1        NaN        NaN   \n",
       "1           2  ...      1        NaN        NaN   \n",
       "2           4  ...      1        NaN        NaN   \n",
       "3           4  ...      1        NaN        NaN   \n",
       "4           4  ...      1        NaN        NaN   \n",
       "\n",
       "                                            mi_style mi_prinx  \\\n",
       "0  Symbol (62,19424,12,\"MapInfo Transportation\",2...      266   \n",
       "1  Symbol (62,19424,12,\"MapInfo Transportation\",2...      264   \n",
       "2  Symbol (62,19424,12,\"MapInfo Transportation\",2...      625   \n",
       "3  Symbol (62,19424,12,\"MapInfo Transportation\",2...      643   \n",
       "4  Symbol (62,19424,12,\"MapInfo Transportation\",2...      635   \n",
       "\n",
       "                                                geom emme_gid  mdc_gid  \\\n",
       "0  0101000020E6100000FA7BA503C45247C0F6F8EF87C081...     2153   214599   \n",
       "1  0101000020E610000035DD8009BB5247C0293CAA92AF7C...    24608   125015   \n",
       "2  0101000020E6100000B0ACD1FE494C47C01B2C5A882787...     2702   249720   \n",
       "3  0101000020E61000000F792E004B4E47C0A5F14DCBF685...    13470   242953   \n",
       "4  0101000020E61000008005B49D845847C04EED0C535B82...    13033   187821   \n",
       "\n",
       "  autuacoes  contagem  \n",
       "0    624849       735  \n",
       "1   1237180      1794  \n",
       "2   4636874     17838  \n",
       "3   5705694     26202  \n",
       "4   3806068     18407  \n",
       "\n",
       "[5 rows x 23 columns]"
      ]
     },
     "execution_count": 5,
     "metadata": {},
     "output_type": "execute_result"
    }
   ],
   "source": [
    "radares = pd.read_csv('../src/radares.csv')\n",
    "radares.head()"
   ]
  },
  {
   "cell_type": "code",
   "execution_count": 6,
   "metadata": {},
   "outputs": [
    {
     "data": {
      "text/plain": [
       "Index(['gid', 'id', 'lote', 'codigo', 'endereco', 'sentido', 'referencia',\n",
       "       'tipo_equip', 'enquadrame', 'qtde_fxs_f', 'data_publi', 'velocidade',\n",
       "       'latitude_l', 'ligado', 'data_desli', 'motivo_des', 'mi_style',\n",
       "       'mi_prinx', 'geom', 'emme_gid', 'mdc_gid', 'autuacoes', 'contagem'],\n",
       "      dtype='object')"
      ]
     },
     "execution_count": 6,
     "metadata": {},
     "output_type": "execute_result"
    }
   ],
   "source": [
    "assert len(radares) == len(radares.id.unique())\n",
    "radares.columns"
   ]
  },
  {
   "cell_type": "code",
   "execution_count": 7,
   "metadata": {},
   "outputs": [
    {
     "data": {
      "text/plain": [
       "('(-46.64660654782726112 -23.50684421366561239)', str)"
      ]
     },
     "execution_count": 7,
     "metadata": {},
     "output_type": "execute_result"
    }
   ],
   "source": [
    "radares.latitude_l[0], type(radares.latitude_l[0])"
   ]
  },
  {
   "cell_type": "markdown",
   "metadata": {},
   "source": [
    "### Script"
   ]
  },
  {
   "cell_type": "code",
   "execution_count": 40,
   "metadata": {},
   "outputs": [],
   "source": [
    "import pandas as pd\n",
    "from shapely.geometry import Point\n",
    "from functools import partial\n",
    "import pyproj\n",
    "from shapely.ops import transform\n",
    "import geopandas as gpd\n",
    "\n",
    "proj_wgs84 = pyproj.Proj(init='epsg:4326')\n",
    "crs = {'init': 'epsg:4326'}\n",
    "\n",
    "def geodesic_point_buffer(lat, lon, dist, id=None):\n",
    "    if id != None: \n",
    "        print(id, lat, lon)\n",
    "    aeqd_proj = '+proj=aeqd +lat_0={lat} +lon_0={lon} +x_0=0 +y_0=0'\n",
    "    project = partial(\n",
    "        pyproj.transform,\n",
    "        pyproj.Proj(aeqd_proj.format(lat=lat, lon=lon)),\n",
    "        proj_wgs84)\n",
    "    buf = Point(0, 0).buffer(dist)\n",
    "    return transform(project, buf)\n",
    "\n",
    "def point_from_tuple_str(tuple_str):\n",
    "    try:\n",
    "        tuple_float = list(map(lambda s: float(s.strip()), tuple_str[1:-1].split(' ')))\n",
    "        if tuple_float[0] < tuple_float[1]:\n",
    "            return Point(tuple_float[0], tuple_float[1])\n",
    "        else:\n",
    "            return Point(tuple_float[1], tuple_float[0])\n",
    "    except:\n",
    "        return None\n",
    "\n",
    "radares = pd.read_csv('../src/radares.csv')\n",
    "pontos_radares = radares.latitude_l.apply(lambda l: point_from_tuple_str(l))\n",
    "radares_geodf = gpd.GeoDataFrame(data=radares.id, geometry=pontos_radares, crs=crs)\n",
    "radares_geodf = radares_geodf[~radares_geodf.geometry.isnull()]\n",
    "\n",
    "acidentes = pd.read_csv('../incidentes/acidentes.csv', delimiter=';')\n",
    "acidentes = acidentes[~acidentes.latitude.isnull() & ~acidentes.longitude.isnull()]\n",
    "\n",
    "buffers_acidentes = {}\n",
    "counts = {}\n",
    "raios = [100, 250, 500, 1000, 2000]\n",
    "for raio in raios:\n",
    "    buffers = acidentes.apply(\n",
    "        lambda row: geodesic_point_buffer(row.latitude, row.longitude, raio), \n",
    "        axis=1)\n",
    "    buffers_acidentes[raio] = gpd.GeoDataFrame(data=acidentes.id_acidente, geometry=buffers, crs=crs)\n",
    "    sjoin = gpd.sjoin(buffers_acidentes[raio], radares_geodf, op='contains')\n",
    "    count = sjoin.groupby('id', as_index=False).agg({'id_acidente': 'count'})\n",
    "    count.rename(columns={'id': 'id_radar', 'id_acidente': 'n_acidentes' + str(raio)}, inplace=True)\n",
    "    counts[raio] = count\n",
    "counts = counts[100].merge(counts[250], on='id_radar', how='outer') \\\n",
    "                    .merge(counts[500], on='id_radar', how='outer') \\\n",
    "                    .merge(counts[1000], on='id_radar', how='outer') \\\n",
    "                    .merge(counts[2000], on='id_radar', how='outer') \\\n",
    "                    .fillna(0)"
   ]
  },
  {
   "cell_type": "code",
   "execution_count": 41,
   "metadata": {},
   "outputs": [
    {
     "data": {
      "text/html": [
       "<div>\n",
       "<style scoped>\n",
       "    .dataframe tbody tr th:only-of-type {\n",
       "        vertical-align: middle;\n",
       "    }\n",
       "\n",
       "    .dataframe tbody tr th {\n",
       "        vertical-align: top;\n",
       "    }\n",
       "\n",
       "    .dataframe thead th {\n",
       "        text-align: right;\n",
       "    }\n",
       "</style>\n",
       "<table border=\"1\" class=\"dataframe\">\n",
       "  <thead>\n",
       "    <tr style=\"text-align: right;\">\n",
       "      <th></th>\n",
       "      <th>id_radar</th>\n",
       "      <th>n_acidentes100</th>\n",
       "      <th>n_acidentes250</th>\n",
       "      <th>n_acidentes500</th>\n",
       "      <th>n_acidentes1000</th>\n",
       "      <th>n_acidentes2000</th>\n",
       "    </tr>\n",
       "  </thead>\n",
       "  <tbody>\n",
       "    <tr>\n",
       "      <th>0</th>\n",
       "      <td>16</td>\n",
       "      <td>1.0</td>\n",
       "      <td>1.0</td>\n",
       "      <td>1.0</td>\n",
       "      <td>3.0</td>\n",
       "      <td>8</td>\n",
       "    </tr>\n",
       "    <tr>\n",
       "      <th>1</th>\n",
       "      <td>78</td>\n",
       "      <td>1.0</td>\n",
       "      <td>3.0</td>\n",
       "      <td>4.0</td>\n",
       "      <td>6.0</td>\n",
       "      <td>19</td>\n",
       "    </tr>\n",
       "    <tr>\n",
       "      <th>2</th>\n",
       "      <td>81</td>\n",
       "      <td>1.0</td>\n",
       "      <td>1.0</td>\n",
       "      <td>4.0</td>\n",
       "      <td>4.0</td>\n",
       "      <td>18</td>\n",
       "    </tr>\n",
       "    <tr>\n",
       "      <th>3</th>\n",
       "      <td>117</td>\n",
       "      <td>1.0</td>\n",
       "      <td>1.0</td>\n",
       "      <td>2.0</td>\n",
       "      <td>5.0</td>\n",
       "      <td>21</td>\n",
       "    </tr>\n",
       "    <tr>\n",
       "      <th>4</th>\n",
       "      <td>144</td>\n",
       "      <td>1.0</td>\n",
       "      <td>1.0</td>\n",
       "      <td>2.0</td>\n",
       "      <td>9.0</td>\n",
       "      <td>34</td>\n",
       "    </tr>\n",
       "  </tbody>\n",
       "</table>\n",
       "</div>"
      ],
      "text/plain": [
       "   id_radar  n_acidentes100  n_acidentes250  n_acidentes500  n_acidentes1000  \\\n",
       "0        16             1.0             1.0             1.0              3.0   \n",
       "1        78             1.0             3.0             4.0              6.0   \n",
       "2        81             1.0             1.0             4.0              4.0   \n",
       "3       117             1.0             1.0             2.0              5.0   \n",
       "4       144             1.0             1.0             2.0              9.0   \n",
       "\n",
       "   n_acidentes2000  \n",
       "0                8  \n",
       "1               19  \n",
       "2               18  \n",
       "3               21  \n",
       "4               34  "
      ]
     },
     "execution_count": 41,
     "metadata": {},
     "output_type": "execute_result"
    }
   ],
   "source": [
    "counts.head()"
   ]
  },
  {
   "cell_type": "markdown",
   "metadata": {},
   "source": [
    "### Validar e salvar"
   ]
  },
  {
   "cell_type": "code",
   "execution_count": 42,
   "metadata": {},
   "outputs": [
    {
     "data": {
      "text/plain": [
       "(912, 902)"
      ]
     },
     "execution_count": 42,
     "metadata": {},
     "output_type": "execute_result"
    }
   ],
   "source": [
    "len(radares), len(counts)"
   ]
  },
  {
   "cell_type": "code",
   "execution_count": 43,
   "metadata": {},
   "outputs": [
    {
     "data": {
      "text/plain": [
       "count    902.000000\n",
       "mean       1.276053\n",
       "std        1.383373\n",
       "min        0.000000\n",
       "25%        0.000000\n",
       "50%        1.000000\n",
       "75%        2.000000\n",
       "max       10.000000\n",
       "Name: n_acidentes500, dtype: float64"
      ]
     },
     "execution_count": 43,
     "metadata": {},
     "output_type": "execute_result"
    }
   ],
   "source": [
    "counts.n_acidentes500.describe()"
   ]
  },
  {
   "cell_type": "code",
   "execution_count": 44,
   "metadata": {},
   "outputs": [
    {
     "data": {
      "text/plain": [
       "count    902.000000\n",
       "mean       4.376940\n",
       "std        2.988294\n",
       "min        0.000000\n",
       "25%        2.000000\n",
       "50%        4.000000\n",
       "75%        6.000000\n",
       "max       18.000000\n",
       "Name: n_acidentes1000, dtype: float64"
      ]
     },
     "execution_count": 44,
     "metadata": {},
     "output_type": "execute_result"
    }
   ],
   "source": [
    "counts.n_acidentes1000.describe()"
   ]
  },
  {
   "cell_type": "code",
   "execution_count": 45,
   "metadata": {},
   "outputs": [
    {
     "data": {
      "text/plain": [
       "count    902.000000\n",
       "mean      16.067627\n",
       "std        7.941159\n",
       "min        1.000000\n",
       "25%       10.000000\n",
       "50%       15.000000\n",
       "75%       20.000000\n",
       "max       49.000000\n",
       "Name: n_acidentes2000, dtype: float64"
      ]
     },
     "execution_count": 45,
     "metadata": {},
     "output_type": "execute_result"
    }
   ],
   "source": [
    "counts.n_acidentes2000.describe()"
   ]
  },
  {
   "cell_type": "code",
   "execution_count": 46,
   "metadata": {},
   "outputs": [],
   "source": [
    "counts.to_csv('../incidentes/acidentes-por-radar.csv')\n",
    "buffers_acidentes[100].to_file('../incidentes/buffers-acidentes-100m.geojson', driver='GeoJSON')"
   ]
  },
  {
   "cell_type": "markdown",
   "metadata": {},
   "source": [
    "### Área de influência"
   ]
  },
  {
   "cell_type": "markdown",
   "metadata": {},
   "source": [
    "Acidentes"
   ]
  },
  {
   "cell_type": "code",
   "execution_count": 47,
   "metadata": {},
   "outputs": [],
   "source": [
    "\"\"\"\n",
    "viario = gpd.read_file('../viario/SIRGAS_SHP_classeviariacet_line.shp')\n",
    "viario.to_crs({'init': 'epsg:4326'}, inplace=True)\n",
    "buffer_viario = gpd.GeoDataFrame(viario.cvc_id, geometry=viario.buffer(0.0001))\n",
    "\"\"\"\n",
    "\n",
    "influencia = gpd.sjoin(buffers_acidentes[100], buffer_viario, op='intersects')\n",
    "influencia = influencia.merge(buffer_viario[['cvc_id', 'geometry']], on='cvc_id')\n",
    "influencia['intersecao'] = influencia.apply(\n",
    "    lambda row: row.geometry_x.intersection(row.geometry_y),\n",
    "    axis=1)\n",
    "influencia = gpd.GeoDataFrame(influencia.id_acidente, geometry=influencia.intersecao, crs=crs)\n",
    "influencia = influencia.dissolve(by='id_acidente', as_index=False)\n",
    "influencia.to_file('../incidentes/intersecao-acidentes-buffer-viario.geojson', driver='GeoJSON')"
   ]
  },
  {
   "cell_type": "code",
   "execution_count": 48,
   "metadata": {},
   "outputs": [
    {
     "name": "stdout",
     "output_type": "stream",
     "text": [
      "998\n"
     ]
    },
    {
     "data": {
      "text/html": [
       "<div>\n",
       "<style scoped>\n",
       "    .dataframe tbody tr th:only-of-type {\n",
       "        vertical-align: middle;\n",
       "    }\n",
       "\n",
       "    .dataframe tbody tr th {\n",
       "        vertical-align: top;\n",
       "    }\n",
       "\n",
       "    .dataframe thead th {\n",
       "        text-align: right;\n",
       "    }\n",
       "</style>\n",
       "<table border=\"1\" class=\"dataframe\">\n",
       "  <thead>\n",
       "    <tr style=\"text-align: right;\">\n",
       "      <th></th>\n",
       "      <th>id_acidente</th>\n",
       "      <th>geometry</th>\n",
       "    </tr>\n",
       "  </thead>\n",
       "  <tbody>\n",
       "    <tr>\n",
       "      <th>0</th>\n",
       "      <td>D021800002</td>\n",
       "      <td>POLYGON ((-46.68744 -23.59095, -46.68744 -23.5...</td>\n",
       "    </tr>\n",
       "    <tr>\n",
       "      <th>1</th>\n",
       "      <td>D021800003</td>\n",
       "      <td>POLYGON ((-46.58861 -23.42052, -46.58866 -23.4...</td>\n",
       "    </tr>\n",
       "    <tr>\n",
       "      <th>2</th>\n",
       "      <td>D021800007</td>\n",
       "      <td>MULTIPOLYGON (((-46.43742 -23.49116, -46.43751...</td>\n",
       "    </tr>\n",
       "    <tr>\n",
       "      <th>3</th>\n",
       "      <td>D021800010</td>\n",
       "      <td>POLYGON ((-46.60732 -23.57750, -46.60733 -23.5...</td>\n",
       "    </tr>\n",
       "    <tr>\n",
       "      <th>4</th>\n",
       "      <td>D021800011</td>\n",
       "      <td>POLYGON ((-46.60772 -23.56550, -46.60780 -23.5...</td>\n",
       "    </tr>\n",
       "  </tbody>\n",
       "</table>\n",
       "</div>"
      ],
      "text/plain": [
       "  id_acidente                                           geometry\n",
       "0  D021800002  POLYGON ((-46.68744 -23.59095, -46.68744 -23.5...\n",
       "1  D021800003  POLYGON ((-46.58861 -23.42052, -46.58866 -23.4...\n",
       "2  D021800007  MULTIPOLYGON (((-46.43742 -23.49116, -46.43751...\n",
       "3  D021800010  POLYGON ((-46.60732 -23.57750, -46.60733 -23.5...\n",
       "4  D021800011  POLYGON ((-46.60772 -23.56550, -46.60780 -23.5..."
      ]
     },
     "execution_count": 48,
     "metadata": {},
     "output_type": "execute_result"
    }
   ],
   "source": [
    "print(len(influencia))\n",
    "influencia.head()"
   ]
  },
  {
   "cell_type": "markdown",
   "metadata": {},
   "source": [
    "Radares"
   ]
  },
  {
   "cell_type": "code",
   "execution_count": 49,
   "metadata": {},
   "outputs": [],
   "source": [
    "#buffer_viario = gpd.read_file('/home/ederson/Downloads/street-classification-0001.geojson')"
   ]
  },
  {
   "cell_type": "code",
   "execution_count": 50,
   "metadata": {},
   "outputs": [
    {
     "name": "stdout",
     "output_type": "stream",
     "text": [
      "902\n"
     ]
    },
    {
     "data": {
      "text/html": [
       "<div>\n",
       "<style scoped>\n",
       "    .dataframe tbody tr th:only-of-type {\n",
       "        vertical-align: middle;\n",
       "    }\n",
       "\n",
       "    .dataframe tbody tr th {\n",
       "        vertical-align: top;\n",
       "    }\n",
       "\n",
       "    .dataframe thead th {\n",
       "        text-align: right;\n",
       "    }\n",
       "</style>\n",
       "<table border=\"1\" class=\"dataframe\">\n",
       "  <thead>\n",
       "    <tr style=\"text-align: right;\">\n",
       "      <th></th>\n",
       "      <th>id</th>\n",
       "      <th>geometry</th>\n",
       "    </tr>\n",
       "  </thead>\n",
       "  <tbody>\n",
       "    <tr>\n",
       "      <th>0</th>\n",
       "      <td>1</td>\n",
       "      <td>POLYGON ((-46.62060 -23.50413, -46.62061 -23.5...</td>\n",
       "    </tr>\n",
       "    <tr>\n",
       "      <th>1</th>\n",
       "      <td>2</td>\n",
       "      <td>MULTIPOLYGON (((-46.70546 -23.50055, -46.70546...</td>\n",
       "    </tr>\n",
       "    <tr>\n",
       "      <th>2</th>\n",
       "      <td>3</td>\n",
       "      <td>POLYGON ((-46.55498 -23.51994, -46.55499 -23.5...</td>\n",
       "    </tr>\n",
       "    <tr>\n",
       "      <th>3</th>\n",
       "      <td>4</td>\n",
       "      <td>MULTIPOLYGON (((-46.55615 -23.51956, -46.55617...</td>\n",
       "    </tr>\n",
       "    <tr>\n",
       "      <th>4</th>\n",
       "      <td>5</td>\n",
       "      <td>POLYGON ((-46.66708 -23.50386, -46.66712 -23.5...</td>\n",
       "    </tr>\n",
       "  </tbody>\n",
       "</table>\n",
       "</div>"
      ],
      "text/plain": [
       "   id                                           geometry\n",
       "0   1  POLYGON ((-46.62060 -23.50413, -46.62061 -23.5...\n",
       "1   2  MULTIPOLYGON (((-46.70546 -23.50055, -46.70546...\n",
       "2   3  POLYGON ((-46.55498 -23.51994, -46.55499 -23.5...\n",
       "3   4  MULTIPOLYGON (((-46.55615 -23.51956, -46.55617...\n",
       "4   5  POLYGON ((-46.66708 -23.50386, -46.66712 -23.5..."
      ]
     },
     "execution_count": 50,
     "metadata": {},
     "output_type": "execute_result"
    }
   ],
   "source": [
    "buffers_radares = radares_geodf.apply(\n",
    "        lambda row: geodesic_point_buffer(row.geometry.y, row.geometry.x, 100), \n",
    "        axis=1)\n",
    "buffers_radares = gpd.GeoDataFrame(radares_geodf.id, geometry=buffers_radares, crs=crs)\n",
    "buffers_radares = buffers_radares[~buffers_radares.geometry.isnull()]\n",
    "influencia = gpd.sjoin(buffers_radares, buffer_viario, op='intersects')\n",
    "influencia = influencia.merge(buffer_viario[['cvc_id', 'geometry']], on='cvc_id')\n",
    "influencia['intersecao'] = influencia.apply(\n",
    "    lambda row: row.geometry_x.intersection(row.geometry_y),\n",
    "    axis=1)\n",
    "influencia = gpd.GeoDataFrame(influencia.id, geometry=influencia.intersecao, crs=crs)\n",
    "influencia = influencia.dissolve(by='id', as_index=False)\n",
    "influencia.rename(columns={'id': 'id_radar'})\n",
    "influencia.to_file('../incidentes/intersecao-radares-buffer-viario.geojson', driver='GeoJSON')\n",
    "print(len(influencia))\n",
    "influencia.head()"
   ]
  },
  {
   "cell_type": "code",
   "execution_count": null,
   "metadata": {},
   "outputs": [],
   "source": []
  }
 ],
 "metadata": {
  "kernelspec": {
   "display_name": "Python 3",
   "language": "python",
   "name": "python3"
  },
  "language_info": {
   "codemirror_mode": {
    "name": "ipython",
    "version": 3
   },
   "file_extension": ".py",
   "mimetype": "text/x-python",
   "name": "python",
   "nbconvert_exporter": "python",
   "pygments_lexer": "ipython3",
   "version": "3.7.4"
  }
 },
 "nbformat": 4,
 "nbformat_minor": 2
}
