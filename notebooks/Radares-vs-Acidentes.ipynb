{
 "cells": [
  {
   "cell_type": "markdown",
   "metadata": {},
   "source": [
    "### Arquivos"
   ]
  },
  {
   "cell_type": "markdown",
   "metadata": {},
   "source": [
    "Acidentes"
   ]
  },
  {
   "cell_type": "code",
   "execution_count": 1,
   "metadata": {},
   "outputs": [],
   "source": [
    "import pandas as pd"
   ]
  },
  {
   "cell_type": "code",
   "execution_count": 2,
   "metadata": {},
   "outputs": [
    {
     "data": {
      "text/html": [
       "<div>\n",
       "<style scoped>\n",
       "    .dataframe tbody tr th:only-of-type {\n",
       "        vertical-align: middle;\n",
       "    }\n",
       "\n",
       "    .dataframe tbody tr th {\n",
       "        vertical-align: top;\n",
       "    }\n",
       "\n",
       "    .dataframe thead th {\n",
       "        text-align: right;\n",
       "    }\n",
       "</style>\n",
       "<table border=\"1\" class=\"dataframe\">\n",
       "  <thead>\n",
       "    <tr style=\"text-align: right;\">\n",
       "      <th></th>\n",
       "      <th>id_acidente</th>\n",
       "      <th>cadlogA</th>\n",
       "      <th>nomeA</th>\n",
       "      <th>cadlogB</th>\n",
       "      <th>nomeB</th>\n",
       "      <th>alt_num</th>\n",
       "      <th>referencia</th>\n",
       "      <th>data</th>\n",
       "      <th>hora</th>\n",
       "      <th>CodigoAcidente</th>\n",
       "      <th>...</th>\n",
       "      <th>distrito</th>\n",
       "      <th>princ_a</th>\n",
       "      <th>princ_b</th>\n",
       "      <th>TipoAcidente</th>\n",
       "      <th>latitude</th>\n",
       "      <th>longitude</th>\n",
       "      <th>geocoding</th>\n",
       "      <th>obstaculo</th>\n",
       "      <th>observacao</th>\n",
       "      <th>ocorrenciaPolicial</th>\n",
       "    </tr>\n",
       "  </thead>\n",
       "  <tbody>\n",
       "    <tr>\n",
       "      <th>0</th>\n",
       "      <td>D021800002</td>\n",
       "      <td>12326</td>\n",
       "      <td>JUSCELINO KUBITSCHEK, AV  PRES</td>\n",
       "      <td></td>\n",
       "      <td>NaN</td>\n",
       "      <td>2041</td>\n",
       "      <td></td>\n",
       "      <td>24/02/2018</td>\n",
       "      <td>07:54</td>\n",
       "      <td>com vítima</td>\n",
       "      <td>...</td>\n",
       "      <td>35</td>\n",
       "      <td>12326</td>\n",
       "      <td>NaN</td>\n",
       "      <td>Colisão</td>\n",
       "      <td>-23.5911</td>\n",
       "      <td>-46.6884</td>\n",
       "      <td>NaN</td>\n",
       "      <td>NaN</td>\n",
       "      <td>NaN</td>\n",
       "      <td>NaN</td>\n",
       "    </tr>\n",
       "    <tr>\n",
       "      <th>1</th>\n",
       "      <td>D021800003</td>\n",
       "      <td>18151</td>\n",
       "      <td>SEZEFREDO FAGUNDES, AV  CEL</td>\n",
       "      <td></td>\n",
       "      <td>NaN</td>\n",
       "      <td>2223</td>\n",
       "      <td></td>\n",
       "      <td>22/02/2018</td>\n",
       "      <td>16:34</td>\n",
       "      <td>com vítima</td>\n",
       "      <td>...</td>\n",
       "      <td>81</td>\n",
       "      <td>18151</td>\n",
       "      <td>NaN</td>\n",
       "      <td>Colisão lateral</td>\n",
       "      <td>-23.4197</td>\n",
       "      <td>-46.5882</td>\n",
       "      <td>NaN</td>\n",
       "      <td>NaN</td>\n",
       "      <td>NaN</td>\n",
       "      <td>NaN</td>\n",
       "    </tr>\n",
       "    <tr>\n",
       "      <th>2</th>\n",
       "      <td>D021800007</td>\n",
       "      <td>10785</td>\n",
       "      <td>JOSE ARTUR NOVA, AV  DR</td>\n",
       "      <td></td>\n",
       "      <td>NaN</td>\n",
       "      <td>300</td>\n",
       "      <td></td>\n",
       "      <td>26/02/2018</td>\n",
       "      <td>13:30</td>\n",
       "      <td>atropelamento</td>\n",
       "      <td>...</td>\n",
       "      <td>74</td>\n",
       "      <td>10785</td>\n",
       "      <td>NaN</td>\n",
       "      <td>Atropelamento</td>\n",
       "      <td>-23.4903</td>\n",
       "      <td>-46.4377</td>\n",
       "      <td>NaN</td>\n",
       "      <td>NaN</td>\n",
       "      <td>NaN</td>\n",
       "      <td>NaN</td>\n",
       "    </tr>\n",
       "    <tr>\n",
       "      <th>3</th>\n",
       "      <td>D021800010</td>\n",
       "      <td>3454</td>\n",
       "      <td>BOM PASTOR, RUA</td>\n",
       "      <td></td>\n",
       "      <td>NaN</td>\n",
       "      <td>100</td>\n",
       "      <td></td>\n",
       "      <td>23/02/2018</td>\n",
       "      <td>09:44</td>\n",
       "      <td>com vítima</td>\n",
       "      <td>...</td>\n",
       "      <td>34</td>\n",
       "      <td>3454</td>\n",
       "      <td>NaN</td>\n",
       "      <td>Colisão lateral</td>\n",
       "      <td>-23.5775</td>\n",
       "      <td>-46.6083</td>\n",
       "      <td>NaN</td>\n",
       "      <td>NaN</td>\n",
       "      <td>NaN</td>\n",
       "      <td>NaN</td>\n",
       "    </tr>\n",
       "    <tr>\n",
       "      <th>4</th>\n",
       "      <td>D021800011</td>\n",
       "      <td>779</td>\n",
       "      <td>ALMEIDA COUTO, RUA PRES</td>\n",
       "      <td>05438</td>\n",
       "      <td>COSTA PEREIRA, RUA PRES</td>\n",
       "      <td>0</td>\n",
       "      <td></td>\n",
       "      <td>14/02/2018</td>\n",
       "      <td>17:10</td>\n",
       "      <td>com vítima</td>\n",
       "      <td>...</td>\n",
       "      <td>14</td>\n",
       "      <td>779</td>\n",
       "      <td>5438.0</td>\n",
       "      <td>Choque</td>\n",
       "      <td>-23.5646</td>\n",
       "      <td>-46.6078</td>\n",
       "      <td>NaN</td>\n",
       "      <td>PI</td>\n",
       "      <td>NaN</td>\n",
       "      <td>NaN</td>\n",
       "    </tr>\n",
       "  </tbody>\n",
       "</table>\n",
       "<p>5 rows × 37 columns</p>\n",
       "</div>"
      ],
      "text/plain": [
       "  id_acidente  cadlogA                            nomeA cadlogB  \\\n",
       "0  D021800002    12326  JUSCELINO KUBITSCHEK, AV  PRES            \n",
       "1  D021800003    18151    SEZEFREDO FAGUNDES, AV  CEL             \n",
       "2  D021800007    10785       JOSE ARTUR NOVA, AV  DR              \n",
       "3  D021800010     3454                  BOM PASTOR, RUA           \n",
       "4  D021800011      779         ALMEIDA COUTO, RUA PRES    05438   \n",
       "\n",
       "                      nomeB  alt_num       referencia        data   hora  \\\n",
       "0                       NaN     2041                   24/02/2018  07:54   \n",
       "1                       NaN     2223                   22/02/2018  16:34   \n",
       "2                       NaN      300                   26/02/2018  13:30   \n",
       "3                       NaN      100                   23/02/2018  09:44   \n",
       "4  COSTA PEREIRA, RUA PRES         0                   14/02/2018  17:10   \n",
       "\n",
       "  CodigoAcidente  ...  distrito  princ_a  princ_b     TipoAcidente  latitude  \\\n",
       "0     com vítima  ...        35    12326      NaN          Colisão  -23.5911   \n",
       "1     com vítima  ...        81    18151      NaN  Colisão lateral  -23.4197   \n",
       "2  atropelamento  ...        74    10785      NaN    Atropelamento  -23.4903   \n",
       "3     com vítima  ...        34     3454      NaN  Colisão lateral  -23.5775   \n",
       "4     com vítima  ...        14      779   5438.0           Choque  -23.5646   \n",
       "\n",
       "   longitude  geocoding  obstaculo  observacao  ocorrenciaPolicial  \n",
       "0   -46.6884        NaN        NaN         NaN                 NaN  \n",
       "1   -46.5882        NaN        NaN         NaN                 NaN  \n",
       "2   -46.4377        NaN        NaN         NaN                 NaN  \n",
       "3   -46.6083        NaN        NaN         NaN                 NaN  \n",
       "4   -46.6078        NaN         PI         NaN                 NaN  \n",
       "\n",
       "[5 rows x 37 columns]"
      ]
     },
     "execution_count": 2,
     "metadata": {},
     "output_type": "execute_result"
    }
   ],
   "source": [
    "acidentes = pd.read_csv('../incidentes/acidentes.csv', delimiter=';')\n",
    "acidentes.head()"
   ]
  },
  {
   "cell_type": "code",
   "execution_count": 3,
   "metadata": {},
   "outputs": [
    {
     "data": {
      "text/plain": [
       "Index(['id_acidente', 'cadlogA', 'nomeA', 'cadlogB', 'nomeB', 'alt_num',\n",
       "       'referencia', 'data', 'hora', 'CodigoAcidente', 'dp', 'bo', 'automovel',\n",
       "       'moto', 'onibus', 'caminhao', 'bicicleta', 'onibus_fretado',\n",
       "       'onibus_urbano', 'microonibus', 'caminhonete', 'carroca', 'outros',\n",
       "       'sem_informacao', 'ferida', 'obito', 'det', 'distrito', 'princ_a',\n",
       "       'princ_b', 'TipoAcidente', 'latitude', 'longitude', 'geocoding',\n",
       "       'obstaculo', 'observacao', 'ocorrenciaPolicial'],\n",
       "      dtype='object')"
      ]
     },
     "execution_count": 3,
     "metadata": {},
     "output_type": "execute_result"
    }
   ],
   "source": [
    "assert len(acidentes) == len(acidentes.id_acidente.unique())\n",
    "acidentes.columns"
   ]
  },
  {
   "cell_type": "code",
   "execution_count": 4,
   "metadata": {},
   "outputs": [
    {
     "data": {
      "text/plain": [
       "999"
      ]
     },
     "execution_count": 4,
     "metadata": {},
     "output_type": "execute_result"
    }
   ],
   "source": [
    "acidentes = acidentes[~acidentes.latitude.isnull() & ~acidentes.longitude.isnull()]\n",
    "len(acidentes)"
   ]
  },
  {
   "cell_type": "markdown",
   "metadata": {},
   "source": [
    "Radares"
   ]
  },
  {
   "cell_type": "code",
   "execution_count": 5,
   "metadata": {},
   "outputs": [
    {
     "data": {
      "text/html": [
       "<div>\n",
       "<style scoped>\n",
       "    .dataframe tbody tr th:only-of-type {\n",
       "        vertical-align: middle;\n",
       "    }\n",
       "\n",
       "    .dataframe tbody tr th {\n",
       "        vertical-align: top;\n",
       "    }\n",
       "\n",
       "    .dataframe thead th {\n",
       "        text-align: right;\n",
       "    }\n",
       "</style>\n",
       "<table border=\"1\" class=\"dataframe\">\n",
       "  <thead>\n",
       "    <tr style=\"text-align: right;\">\n",
       "      <th></th>\n",
       "      <th>gid</th>\n",
       "      <th>id</th>\n",
       "      <th>lote</th>\n",
       "      <th>codigo</th>\n",
       "      <th>endereco</th>\n",
       "      <th>sentido</th>\n",
       "      <th>referencia</th>\n",
       "      <th>tipo_equip</th>\n",
       "      <th>enquadrame</th>\n",
       "      <th>qtde_fxs_f</th>\n",
       "      <th>...</th>\n",
       "      <th>latitude_l</th>\n",
       "      <th>ligado</th>\n",
       "      <th>data_desli</th>\n",
       "      <th>motivo_des</th>\n",
       "      <th>mi_style</th>\n",
       "      <th>mi_prinx</th>\n",
       "      <th>geom</th>\n",
       "      <th>emme_gid</th>\n",
       "      <th>mdc_gid</th>\n",
       "      <th>contagem</th>\n",
       "    </tr>\n",
       "  </thead>\n",
       "  <tbody>\n",
       "    <tr>\n",
       "      <th>0</th>\n",
       "      <td>174</td>\n",
       "      <td>11</td>\n",
       "      <td>1</td>\n",
       "      <td>6666</td>\n",
       "      <td>Av. Bráz Leme</td>\n",
       "      <td>Santana/Marginal</td>\n",
       "      <td>nº. 1.315</td>\n",
       "      <td>Fixo - Grupo A</td>\n",
       "      <td>V</td>\n",
       "      <td>3</td>\n",
       "      <td>...</td>\n",
       "      <td>(-46.64660654782726112 -23.50684421366561239)</td>\n",
       "      <td>1</td>\n",
       "      <td>NaN</td>\n",
       "      <td>NaN</td>\n",
       "      <td>Symbol (62,19424,12,\"MapInfo Transportation\",2...</td>\n",
       "      <td>266</td>\n",
       "      <td>0101000020E6100000FA7BA503C45247C0F6F8EF87C081...</td>\n",
       "      <td>2153</td>\n",
       "      <td>214599</td>\n",
       "      <td>624849.0</td>\n",
       "    </tr>\n",
       "    <tr>\n",
       "      <th>1</th>\n",
       "      <td>172</td>\n",
       "      <td>12</td>\n",
       "      <td>1</td>\n",
       "      <td>6667</td>\n",
       "      <td>Av. Engº. Caetano Alvares</td>\n",
       "      <td>Bairro/Centro</td>\n",
       "      <td>nº. 4.339</td>\n",
       "      <td>Fixo - Grupo A</td>\n",
       "      <td>V</td>\n",
       "      <td>2</td>\n",
       "      <td>...</td>\n",
       "      <td>(-46.64633341117907861 -23.48705384348019365)</td>\n",
       "      <td>1</td>\n",
       "      <td>NaN</td>\n",
       "      <td>NaN</td>\n",
       "      <td>Symbol (62,19424,12,\"MapInfo Transportation\",2...</td>\n",
       "      <td>264</td>\n",
       "      <td>0101000020E610000035DD8009BB5247C0293CAA92AF7C...</td>\n",
       "      <td>24608</td>\n",
       "      <td>125015</td>\n",
       "      <td>1237180.0</td>\n",
       "    </tr>\n",
       "    <tr>\n",
       "      <th>2</th>\n",
       "      <td>517</td>\n",
       "      <td>13</td>\n",
       "      <td>1</td>\n",
       "      <td>6742 - 6743 - 6796 - 6797</td>\n",
       "      <td>Marg. Tietê, Pista Expressa</td>\n",
       "      <td>Castelo Branco/Ayrton Senna</td>\n",
       "      <td>a menos 167m da Ponte Presidente Jânio Quadros</td>\n",
       "      <td>Fixo - Grupo A</td>\n",
       "      <td>V-R-Z</td>\n",
       "      <td>4</td>\n",
       "      <td>...</td>\n",
       "      <td>(-46.59600837639777637 -23.52794743167591207)</td>\n",
       "      <td>1</td>\n",
       "      <td>NaN</td>\n",
       "      <td>NaN</td>\n",
       "      <td>Symbol (62,19424,12,\"MapInfo Transportation\",2...</td>\n",
       "      <td>625</td>\n",
       "      <td>0101000020E6100000B0ACD1FE494C47C01B2C5A882787...</td>\n",
       "      <td>2702</td>\n",
       "      <td>249720</td>\n",
       "      <td>NaN</td>\n",
       "    </tr>\n",
       "    <tr>\n",
       "      <th>3</th>\n",
       "      <td>533</td>\n",
       "      <td>14</td>\n",
       "      <td>1</td>\n",
       "      <td>6754 - 6753 - 6907-6908</td>\n",
       "      <td>Marg. Tietê, Pista Expressa</td>\n",
       "      <td>Castelo Branco/Ayrton Senna</td>\n",
       "      <td>a menos 31m Ponte Vila Guilherme</td>\n",
       "      <td>Fixo - Grupo A</td>\n",
       "      <td>V-R-PR-VER</td>\n",
       "      <td>4</td>\n",
       "      <td>...</td>\n",
       "      <td>(-46.61166479330452717 -23.52329704760323281)</td>\n",
       "      <td>1</td>\n",
       "      <td>NaN</td>\n",
       "      <td>NaN</td>\n",
       "      <td>Symbol (62,19424,12,\"MapInfo Transportation\",2...</td>\n",
       "      <td>643</td>\n",
       "      <td>0101000020E61000000F792E004B4E47C0A5F14DCBF685...</td>\n",
       "      <td>13470</td>\n",
       "      <td>242953</td>\n",
       "      <td>NaN</td>\n",
       "    </tr>\n",
       "    <tr>\n",
       "      <th>4</th>\n",
       "      <td>526</td>\n",
       "      <td>15</td>\n",
       "      <td>1</td>\n",
       "      <td>6672 - 6671 - 6881- 6906</td>\n",
       "      <td>Marg. Tietê, Pista Expressa</td>\n",
       "      <td>Castelo Branco/Ayrton Senna</td>\n",
       "      <td>a menos 206m Ponte Freguesia do Ó</td>\n",
       "      <td>Fixo - Grupo A</td>\n",
       "      <td>V-R-Z-PR</td>\n",
       "      <td>4</td>\n",
       "      <td>...</td>\n",
       "      <td>(-46.69154853843354402 -23.50920555531769907)</td>\n",
       "      <td>1</td>\n",
       "      <td>NaN</td>\n",
       "      <td>NaN</td>\n",
       "      <td>Symbol (62,19424,12,\"MapInfo Transportation\",2...</td>\n",
       "      <td>635</td>\n",
       "      <td>0101000020E61000008005B49D845847C04EED0C535B82...</td>\n",
       "      <td>13033</td>\n",
       "      <td>187821</td>\n",
       "      <td>2463741.0</td>\n",
       "    </tr>\n",
       "  </tbody>\n",
       "</table>\n",
       "<p>5 rows × 22 columns</p>\n",
       "</div>"
      ],
      "text/plain": [
       "   gid  id  lote                     codigo                     endereco  \\\n",
       "0  174  11     1                       6666                Av. Bráz Leme   \n",
       "1  172  12     1                       6667    Av. Engº. Caetano Alvares   \n",
       "2  517  13     1  6742 - 6743 - 6796 - 6797  Marg. Tietê, Pista Expressa   \n",
       "3  533  14     1    6754 - 6753 - 6907-6908  Marg. Tietê, Pista Expressa   \n",
       "4  526  15     1   6672 - 6671 - 6881- 6906  Marg. Tietê, Pista Expressa   \n",
       "\n",
       "                       sentido  \\\n",
       "0             Santana/Marginal   \n",
       "1                Bairro/Centro   \n",
       "2  Castelo Branco/Ayrton Senna   \n",
       "3  Castelo Branco/Ayrton Senna   \n",
       "4  Castelo Branco/Ayrton Senna   \n",
       "\n",
       "                                       referencia      tipo_equip  enquadrame  \\\n",
       "0                                       nº. 1.315  Fixo - Grupo A           V   \n",
       "1                                       nº. 4.339  Fixo - Grupo A           V   \n",
       "2  a menos 167m da Ponte Presidente Jânio Quadros  Fixo - Grupo A       V-R-Z   \n",
       "3                a menos 31m Ponte Vila Guilherme  Fixo - Grupo A  V-R-PR-VER   \n",
       "4               a menos 206m Ponte Freguesia do Ó  Fixo - Grupo A    V-R-Z-PR   \n",
       "\n",
       "   qtde_fxs_f  ...                                     latitude_l ligado  \\\n",
       "0           3  ...  (-46.64660654782726112 -23.50684421366561239)      1   \n",
       "1           2  ...  (-46.64633341117907861 -23.48705384348019365)      1   \n",
       "2           4  ...  (-46.59600837639777637 -23.52794743167591207)      1   \n",
       "3           4  ...  (-46.61166479330452717 -23.52329704760323281)      1   \n",
       "4           4  ...  (-46.69154853843354402 -23.50920555531769907)      1   \n",
       "\n",
       "  data_desli  motivo_des                                           mi_style  \\\n",
       "0        NaN         NaN  Symbol (62,19424,12,\"MapInfo Transportation\",2...   \n",
       "1        NaN         NaN  Symbol (62,19424,12,\"MapInfo Transportation\",2...   \n",
       "2        NaN         NaN  Symbol (62,19424,12,\"MapInfo Transportation\",2...   \n",
       "3        NaN         NaN  Symbol (62,19424,12,\"MapInfo Transportation\",2...   \n",
       "4        NaN         NaN  Symbol (62,19424,12,\"MapInfo Transportation\",2...   \n",
       "\n",
       "  mi_prinx                                               geom  emme_gid  \\\n",
       "0      266  0101000020E6100000FA7BA503C45247C0F6F8EF87C081...      2153   \n",
       "1      264  0101000020E610000035DD8009BB5247C0293CAA92AF7C...     24608   \n",
       "2      625  0101000020E6100000B0ACD1FE494C47C01B2C5A882787...      2702   \n",
       "3      643  0101000020E61000000F792E004B4E47C0A5F14DCBF685...     13470   \n",
       "4      635  0101000020E61000008005B49D845847C04EED0C535B82...     13033   \n",
       "\n",
       "  mdc_gid   contagem  \n",
       "0  214599   624849.0  \n",
       "1  125015  1237180.0  \n",
       "2  249720        NaN  \n",
       "3  242953        NaN  \n",
       "4  187821  2463741.0  \n",
       "\n",
       "[5 rows x 22 columns]"
      ]
     },
     "execution_count": 5,
     "metadata": {},
     "output_type": "execute_result"
    }
   ],
   "source": [
    "radares = pd.read_csv('../src/radares.csv')\n",
    "radares.head()"
   ]
  },
  {
   "cell_type": "code",
   "execution_count": 6,
   "metadata": {},
   "outputs": [
    {
     "data": {
      "text/plain": [
       "Index(['gid', 'id', 'lote', 'codigo', 'endereco', 'sentido', 'referencia',\n",
       "       'tipo_equip', 'enquadrame', 'qtde_fxs_f', 'data_publi', 'velocidade',\n",
       "       'latitude_l', 'ligado', 'data_desli', 'motivo_des', 'mi_style',\n",
       "       'mi_prinx', 'geom', 'emme_gid', 'mdc_gid', 'contagem'],\n",
       "      dtype='object')"
      ]
     },
     "execution_count": 6,
     "metadata": {},
     "output_type": "execute_result"
    }
   ],
   "source": [
    "assert len(radares) == len(radares.id.unique())\n",
    "radares.columns"
   ]
  },
  {
   "cell_type": "code",
   "execution_count": 7,
   "metadata": {},
   "outputs": [
    {
     "data": {
      "text/plain": [
       "('(-46.64660654782726112 -23.50684421366561239)', str)"
      ]
     },
     "execution_count": 7,
     "metadata": {},
     "output_type": "execute_result"
    }
   ],
   "source": [
    "radares.latitude_l[0], type(radares.latitude_l[0])"
   ]
  },
  {
   "cell_type": "markdown",
   "metadata": {},
   "source": [
    "### Script"
   ]
  },
  {
   "cell_type": "code",
   "execution_count": 18,
   "metadata": {},
   "outputs": [],
   "source": [
    "import pandas as pd\n",
    "from shapely.geometry import Point\n",
    "from functools import partial\n",
    "import pyproj\n",
    "from shapely.ops import transform\n",
    "import geopandas as gpd\n",
    "\n",
    "proj_wgs84 = pyproj.Proj(init='epsg:4326')\n",
    "crs = {'init': 'epsg:4326'}\n",
    "\n",
    "def geodesic_point_buffer(lat, lon, dist, id=None):\n",
    "    if id != None: \n",
    "        print(id, lat, lon)\n",
    "    aeqd_proj = '+proj=aeqd +lat_0={lat} +lon_0={lon} +x_0=0 +y_0=0'\n",
    "    project = partial(\n",
    "        pyproj.transform,\n",
    "        pyproj.Proj(aeqd_proj.format(lat=lat, lon=lon)),\n",
    "        proj_wgs84)\n",
    "    buf = Point(0, 0).buffer(dist)\n",
    "    return transform(project, buf)\n",
    "\n",
    "def point_from_tuple_str(tuple_str):\n",
    "    try:\n",
    "        tuple_float = list(map(lambda s: float(s.strip()), tuple_str[1:-1].split(' ')))\n",
    "        return Point(tuple_float[1], tuple_float[0])\n",
    "    except:\n",
    "        return None\n",
    "\n",
    "radares = pd.read_csv('../src/radares.csv')\n",
    "pontos_radares = radares.latitude_l.apply(lambda l: point_from_tuple_str(l))\n",
    "radares_geodf = gpd.GeoDataFrame(data=radares.id, geometry=pontos_radares, crs=crs)\n",
    "radares_geodf = radares_geodf[~radares_geodf.geometry.isnull()]\n",
    "\n",
    "acidentes = pd.read_csv('../incidentes/acidentes.csv', delimiter=';')\n",
    "acidentes = acidentes[~acidentes.latitude.isnull() & ~acidentes.longitude.isnull()]\n",
    "\n",
    "buffers_acidentes = {}\n",
    "counts = {}\n",
    "raios = [500, 1000, 2000]\n",
    "for raio in raios:\n",
    "    buffers = acidentes.apply(\n",
    "        lambda row: geodesic_point_buffer(row.latitude, row.longitude, raio), \n",
    "        axis=1)\n",
    "    buffers_acidentes[raio] = gpd.GeoDataFrame(data=acidentes.id_acidente, geometry=buffers, crs=crs)\n",
    "    sjoin = gpd.sjoin(buffers_acidentes[raio], radares_geodf, op='contains')\n",
    "    count = sjoin.groupby('id', as_index=False).agg({'id_acidente': 'count'})\n",
    "    count.rename(columns={'id': 'id_radar', 'id_acidente': 'n_acidentes' + str(raio)}, inplace=True)\n",
    "    counts[raio] = count\n",
    "counts = counts[500].merge(counts[1000], on='id_radar', how='outer') \\\n",
    "                    .merge(counts[2000], on='id_radar', how='outer') \\\n",
    "                    .fillna(0)"
   ]
  },
  {
   "cell_type": "code",
   "execution_count": 20,
   "metadata": {},
   "outputs": [
    {
     "data": {
      "text/html": [
       "<div>\n",
       "<style scoped>\n",
       "    .dataframe tbody tr th:only-of-type {\n",
       "        vertical-align: middle;\n",
       "    }\n",
       "\n",
       "    .dataframe tbody tr th {\n",
       "        vertical-align: top;\n",
       "    }\n",
       "\n",
       "    .dataframe thead th {\n",
       "        text-align: right;\n",
       "    }\n",
       "</style>\n",
       "<table border=\"1\" class=\"dataframe\">\n",
       "  <thead>\n",
       "    <tr style=\"text-align: right;\">\n",
       "      <th></th>\n",
       "      <th>id_radar</th>\n",
       "      <th>n_acidentes500</th>\n",
       "      <th>n_acidentes1000</th>\n",
       "      <th>n_acidentes2000</th>\n",
       "    </tr>\n",
       "  </thead>\n",
       "  <tbody>\n",
       "    <tr>\n",
       "      <th>0</th>\n",
       "      <td>25</td>\n",
       "      <td>1.0</td>\n",
       "      <td>6.0</td>\n",
       "      <td>17</td>\n",
       "    </tr>\n",
       "    <tr>\n",
       "      <th>1</th>\n",
       "      <td>26</td>\n",
       "      <td>1.0</td>\n",
       "      <td>3.0</td>\n",
       "      <td>18</td>\n",
       "    </tr>\n",
       "    <tr>\n",
       "      <th>2</th>\n",
       "      <td>28</td>\n",
       "      <td>2.0</td>\n",
       "      <td>6.0</td>\n",
       "      <td>10</td>\n",
       "    </tr>\n",
       "    <tr>\n",
       "      <th>3</th>\n",
       "      <td>32</td>\n",
       "      <td>2.0</td>\n",
       "      <td>3.0</td>\n",
       "      <td>8</td>\n",
       "    </tr>\n",
       "    <tr>\n",
       "      <th>4</th>\n",
       "      <td>72</td>\n",
       "      <td>2.0</td>\n",
       "      <td>7.0</td>\n",
       "      <td>19</td>\n",
       "    </tr>\n",
       "  </tbody>\n",
       "</table>\n",
       "</div>"
      ],
      "text/plain": [
       "   id_radar  n_acidentes500  n_acidentes1000  n_acidentes2000\n",
       "0        25             1.0              6.0               17\n",
       "1        26             1.0              3.0               18\n",
       "2        28             2.0              6.0               10\n",
       "3        32             2.0              3.0                8\n",
       "4        72             2.0              7.0               19"
      ]
     },
     "execution_count": 20,
     "metadata": {},
     "output_type": "execute_result"
    }
   ],
   "source": [
    "counts.head()"
   ]
  },
  {
   "cell_type": "markdown",
   "metadata": {},
   "source": [
    "### Validar e salvar"
   ]
  },
  {
   "cell_type": "code",
   "execution_count": 21,
   "metadata": {},
   "outputs": [
    {
     "data": {
      "text/plain": [
       "(912, 55)"
      ]
     },
     "execution_count": 21,
     "metadata": {},
     "output_type": "execute_result"
    }
   ],
   "source": [
    "len(radares), len(counts)"
   ]
  },
  {
   "cell_type": "code",
   "execution_count": 22,
   "metadata": {},
   "outputs": [
    {
     "data": {
      "text/plain": [
       "count    55.000000\n",
       "mean      1.527273\n",
       "std       1.288906\n",
       "min       0.000000\n",
       "25%       1.000000\n",
       "50%       1.000000\n",
       "75%       2.000000\n",
       "max       6.000000\n",
       "Name: n_acidentes500, dtype: float64"
      ]
     },
     "execution_count": 22,
     "metadata": {},
     "output_type": "execute_result"
    }
   ],
   "source": [
    "counts.n_acidentes500.describe()"
   ]
  },
  {
   "cell_type": "code",
   "execution_count": 23,
   "metadata": {},
   "outputs": [
    {
     "data": {
      "text/plain": [
       "count    55.000000\n",
       "mean      4.963636\n",
       "std       3.156203\n",
       "min       0.000000\n",
       "25%       3.000000\n",
       "50%       5.000000\n",
       "75%       7.000000\n",
       "max      15.000000\n",
       "Name: n_acidentes1000, dtype: float64"
      ]
     },
     "execution_count": 23,
     "metadata": {},
     "output_type": "execute_result"
    }
   ],
   "source": [
    "counts.n_acidentes1000.describe()"
   ]
  },
  {
   "cell_type": "code",
   "execution_count": 24,
   "metadata": {},
   "outputs": [
    {
     "data": {
      "text/plain": [
       "count    55.000000\n",
       "mean     17.672727\n",
       "std       8.472296\n",
       "min       6.000000\n",
       "25%      10.500000\n",
       "50%      17.000000\n",
       "75%      21.000000\n",
       "max      43.000000\n",
       "Name: n_acidentes2000, dtype: float64"
      ]
     },
     "execution_count": 24,
     "metadata": {},
     "output_type": "execute_result"
    }
   ],
   "source": [
    "counts.n_acidentes2000.describe()"
   ]
  },
  {
   "cell_type": "code",
   "execution_count": 25,
   "metadata": {},
   "outputs": [],
   "source": [
    "counts.to_csv('../incidentes/acidentes-por-radar.csv')\n",
    "buffers_acidentes[500].to_file('../incidentes/buffers-acidentes-500m.geojson', driver='GeoJSON')"
   ]
  },
  {
   "cell_type": "code",
   "execution_count": null,
   "metadata": {},
   "outputs": [],
   "source": []
  }
 ],
 "metadata": {
  "kernelspec": {
   "display_name": "Python 3",
   "language": "python",
   "name": "python3"
  },
  "language_info": {
   "codemirror_mode": {
    "name": "ipython",
    "version": 3
   },
   "file_extension": ".py",
   "mimetype": "text/x-python",
   "name": "python",
   "nbconvert_exporter": "python",
   "pygments_lexer": "ipython3",
   "version": "3.7.4"
  }
 },
 "nbformat": 4,
 "nbformat_minor": 2
}
