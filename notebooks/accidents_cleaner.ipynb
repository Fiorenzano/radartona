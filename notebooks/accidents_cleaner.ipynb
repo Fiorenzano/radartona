{
 "cells": [
  {
   "cell_type": "code",
   "execution_count": 1,
   "metadata": {},
   "outputs": [],
   "source": [
    "# -*- coding: utf-8 -*-\n",
    "import geopandas as gpd\n",
    "import numpy as np\n",
    "import pandas as pd\n",
    "import csv\n",
    "import unidecode\n",
    "import math\n",
    "import shapefile\n",
    "import utm\n",
    "from shapely.geometry import shape, LineString, Polygon\n",
    "import math\n"
   ]
  },
  {
   "cell_type": "code",
   "execution_count": 2,
   "metadata": {},
   "outputs": [],
   "source": [
    "csv_acidentes = \"CET/MortosFeridos2011-2018/2011-2018_Acidentes.csv\"\n",
    "acidentes = pd.read_csv(csv_acidentes, header=0,delimiter=\";\", low_memory=False) "
   ]
  },
  {
   "cell_type": "code",
   "execution_count": 42,
   "metadata": {},
   "outputs": [
    {
     "name": "stderr",
     "output_type": "stream",
     "text": [
      "/Users/higor/anaconda3/lib/python3.6/site-packages/pandas/core/generic.py:4401: SettingWithCopyWarning: \n",
      "A value is trying to be set on a copy of a slice from a DataFrame.\n",
      "Try using .loc[row_indexer,col_indexer] = value instead\n",
      "\n",
      "See the caveats in the documentation: http://pandas.pydata.org/pandas-docs/stable/indexing.html#indexing-view-versus-copy\n",
      "  self[name] = value\n",
      "/Users/higor/anaconda3/lib/python3.6/site-packages/ipykernel_launcher.py:12: SettingWithCopyWarning: \n",
      "A value is trying to be set on a copy of a slice from a DataFrame.\n",
      "Try using .loc[row_indexer,col_indexer] = value instead\n",
      "\n",
      "See the caveats in the documentation: http://pandas.pydata.org/pandas-docs/stable/indexing.html#indexing-view-versus-copy\n",
      "  if sys.path[0] == '':\n",
      "/Users/higor/anaconda3/lib/python3.6/site-packages/ipykernel_launcher.py:13: SettingWithCopyWarning: \n",
      "A value is trying to be set on a copy of a slice from a DataFrame.\n",
      "Try using .loc[row_indexer,col_indexer] = value instead\n",
      "\n",
      "See the caveats in the documentation: http://pandas.pydata.org/pandas-docs/stable/indexing.html#indexing-view-versus-copy\n",
      "  del sys.path[0]\n",
      "/Users/higor/anaconda3/lib/python3.6/site-packages/ipykernel_launcher.py:14: SettingWithCopyWarning: \n",
      "A value is trying to be set on a copy of a slice from a DataFrame.\n",
      "Try using .loc[row_indexer,col_indexer] = value instead\n",
      "\n",
      "See the caveats in the documentation: http://pandas.pydata.org/pandas-docs/stable/indexing.html#indexing-view-versus-copy\n",
      "  \n",
      "/Users/higor/anaconda3/lib/python3.6/site-packages/ipykernel_launcher.py:15: SettingWithCopyWarning: \n",
      "A value is trying to be set on a copy of a slice from a DataFrame.\n",
      "Try using .loc[row_indexer,col_indexer] = value instead\n",
      "\n",
      "See the caveats in the documentation: http://pandas.pydata.org/pandas-docs/stable/indexing.html#indexing-view-versus-copy\n",
      "  from ipykernel import kernelapp as app\n",
      "/Users/higor/anaconda3/lib/python3.6/site-packages/ipykernel_launcher.py:16: SettingWithCopyWarning: \n",
      "A value is trying to be set on a copy of a slice from a DataFrame.\n",
      "Try using .loc[row_indexer,col_indexer] = value instead\n",
      "\n",
      "See the caveats in the documentation: http://pandas.pydata.org/pandas-docs/stable/indexing.html#indexing-view-versus-copy\n",
      "  app.launch_new_instance()\n"
     ]
    },
    {
     "data": {
      "text/plain": [
       "1002"
      ]
     },
     "execution_count": 42,
     "metadata": {},
     "output_type": "execute_result"
    }
   ],
   "source": [
    "#cleaning SAT database from https://gitlab.com/ciclocidade/dados\n",
    "\n",
    "acidentes['data'] = pd.to_datetime(acidentes['data'])\n",
    "\n",
    "acidentes_filtered = acidentes[(acidentes['data'].dt.month==2) & (acidentes['data'].dt.year > 2015)]\n",
    "\n",
    "acidentes_filtered.endereco1.astype(str)\n",
    "acidentes_filtered.endereco2 = acidentes_filtered.endereco2.astype(str)\n",
    "acidentes_filtered.tipo_acid = acidentes_filtered.tipo_acid.astype(str)\n",
    "acidentes_filtered.categoria = acidentes_filtered.categoria.astype(str)\n",
    "acidentes_filtered.agg_categoria = acidentes_filtered.agg_categoria.astype(str)\n",
    "\n",
    "acidentes_filtered['endereco1'] = acidentes_filtered['endereco1'].apply(lambda x: unidecode.unidecode(x))\n",
    "acidentes_filtered['endereco2'] = acidentes_filtered['endereco2'].apply(lambda x: unidecode.unidecode(x))\n",
    "acidentes_filtered['tipo_acid'] = acidentes_filtered['tipo_acid'].apply(lambda x: unidecode.unidecode(x))\n",
    "acidentes_filtered['categoria'] = acidentes_filtered['categoria'].apply(lambda x: unidecode.unidecode(x))\n",
    "acidentes_filtered['agg_categoria'] = acidentes_filtered['agg_categoria'].apply(lambda x: unidecode.unidecode(x))\n",
    "\n",
    "acidentes_filtered = acidentes_filtered[['id_acidente','latitude','longitude','endereco1','endereco2','data','cod_acid','tipo_acid','feridas','mortas','automóvel','caminhonete','carreta','jipe','bicicleta','moto','moto_taxi','micro-ônibus','ônibus','ônibus urbano','ônibus fretado','caminhão','van','vuc','outros','carroça','sem informação']]\n",
    "\n",
    "acidentes_filtered.rename(columns={'automóvel':'automovel','micro-ônibus':'micro_onibus','ônibus':'onibus','ônibus urbano':'onibus_urbano','ônibus fretado':'onibus_fretado','caminhão':'caminhao','carroça':'carroca','sem informação':'sem_informacao'},inplace=True)\n",
    "\n",
    "acidentes_filtered_2016 = acidentes_filtered[(acidentes_filtered['data'].dt.month==2) & (acidentes_filtered['data'].dt.year == 2016)]\n",
    "acidentes_filtered_2017 = acidentes_filtered[(acidentes_filtered['data'].dt.month==2) & (acidentes_filtered['data'].dt.year == 2017)]\n",
    "acidentes_filtered_2018 = acidentes_filtered[(acidentes_filtered['data'].dt.month==2) & (acidentes_filtered['data'].dt.year == 2018)]\n",
    "\n",
    "acidentes_filtered_2016.to_csv('acidentes_fev_2016.csv')\n",
    "acidentes_filtered_2017.to_csv('acidentes_fev_2017.csv')\n",
    "acidentes_filtered_2018.to_csv('acidentes_fev_2018.csv')\n",
    "\n",
    "\n",
    "len(acidentes_filtered_2018)\n",
    "#acidentes_filtered.head()"
   ]
  },
  {
   "cell_type": "code",
   "execution_count": 9,
   "metadata": {},
   "outputs": [
    {
     "ename": "SyntaxError",
     "evalue": "invalid syntax (<ipython-input-9-28a47777df41>, line 1)",
     "output_type": "error",
     "traceback": [
      "\u001b[0;36m  File \u001b[0;32m\"<ipython-input-9-28a47777df41>\"\u001b[0;36m, line \u001b[0;32m1\u001b[0m\n\u001b[0;31m    def load_acidentes_hist(tipos)\u001b[0m\n\u001b[0m                                  ^\u001b[0m\n\u001b[0;31mSyntaxError\u001b[0m\u001b[0;31m:\u001b[0m invalid syntax\n"
     ]
    }
   ],
   "source": [
    "def load_acidentes_hist(tipos)\n",
    "    \n",
    "    acidentes_fevereiro = \n",
    "    \n",
    "  #  acidentes_bike = acidentes[acidentes['bicicleta'] != 0]\n",
    "  #  acidentes_pedestre = acidentes[acidentes['TipoAcidente'] != 'Atropelamento']\n",
    "    \n",
    "    acidentes_copy = acidentes\n",
    "\n",
    "    tipos_filtros = []\n",
    "    if tipos != \"0\":\n",
    "        tipos = tipos.split(\",\")\n",
    "        acidentes_copy = acidentes_copy[acidentes_copy['tipo_acid'] == tipos[0].encode('utf-8')] \n",
    "\n",
    "    return acidentes_copy\n"
   ]
  },
  {
   "cell_type": "code",
   "execution_count": null,
   "metadata": {},
   "outputs": [],
   "source": []
  }
 ],
 "metadata": {
  "kernelspec": {
   "display_name": "Python 3",
   "language": "python",
   "name": "python3"
  },
  "language_info": {
   "codemirror_mode": {
    "name": "ipython",
    "version": 3
   },
   "file_extension": ".py",
   "mimetype": "text/x-python",
   "name": "python",
   "nbconvert_exporter": "python",
   "pygments_lexer": "ipython3",
   "version": "3.6.5"
  }
 },
 "nbformat": 4,
 "nbformat_minor": 2
}
