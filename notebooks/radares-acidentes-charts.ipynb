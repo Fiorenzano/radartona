{
 "cells": [
  {
   "cell_type": "code",
   "execution_count": 1,
   "metadata": {},
   "outputs": [],
   "source": [
    "import pandas as pd\n",
    "import numpy as np\n",
    "import folium\n",
    "import math\n",
    "import datetime as dt\n",
    "import glob\n",
    "from ipywidgets import interact, widgets\n",
    "import geopandas as gpd\n",
    "from shapely.geometry import Point\n",
    "from scipy.interpolate import CubicSpline\n",
    "import matplotlib.pyplot as plt\n",
    "import matplotlib.ticker as tkr\n",
    "import matplotlib.dates as mdate\n",
    "import seaborn as sbn\n",
    "import scipy.stats as st\n",
    "pd.set_option('precision', 1) #be careful because this also applies to lat long\n",
    "# global settings for the charts\n",
    "plt.rcParams['font.family'] = 'FreeSerif'\n",
    "#plt.rcParams['font.family'] = 'Times New Roman'\n",
    "plt.rcParams['font.size'] = 22\n",
    "plt.rcParams['figure.titlesize'] = 26\n",
    "plt.rcParams['axes.labelsize'] = 20\n",
    "plt.rcParams['axes.labelweight'] = 'bold'\n",
    "plt.rcParams['xtick.labelsize'] = 20\n",
    "plt.rcParams['ytick.labelsize'] = 20\n",
    "plt.rcParams['axes.grid.axis'] = 'y'\n",
    "plt.rcParams['axes.grid'] = True\n",
    "plt.rcParams['legend.fontsize'] = 18"
   ]
  },
  {
   "cell_type": "code",
   "execution_count": 23,
   "metadata": {},
   "outputs": [
    {
     "data": {
      "text/plain": [
       "39.0"
      ]
     },
     "execution_count": 23,
     "metadata": {},
     "output_type": "execute_result"
    }
   ],
   "source": [
    "acidentes = pd.read_csv('../incidentes/acidentes-por-radar-2018.csv')\n",
    "acidentes.n_acidentes100 = acidentes.n_acidentes25.astype(int)\n",
    "acidentes.n_acidentes100 = acidentes.n_acidentes50.astype(int)\n",
    "acidentes.n_acidentes100 = acidentes.n_acidentes100.astype(int)\n",
    "acidentes.n_acidentes250 = acidentes.n_acidentes250.astype(int)\n",
    "acidentes.n_acidentes500 = acidentes.n_acidentes500.astype(int)\n",
    "acidentes.n_acidentes1000 = acidentes.n_acidentes1000.astype(int)\n",
    "acidentes.n_acidentes2000 = acidentes.n_acidentes2000.astype(int)\n",
    "acidentes.drop(acidentes.columns[0],axis=1,inplace=True)\n",
    "acidentes.set_index('id_radar',inplace=True)\n",
    "acidentes['n_acidentes50'].sum()\n",
    "#acidentes.append(acidentes['n_acidentes100'].sum())#.rename('total'))#.assign(total_radar=lambda x: x.sum(1))\n",
    "#len(acidentes)"
   ]
  },
  {
   "cell_type": "code",
   "execution_count": null,
   "metadata": {},
   "outputs": [],
   "source": []
  }
 ],
 "metadata": {
  "kernelspec": {
   "display_name": "Python 3",
   "language": "python",
   "name": "python3"
  },
  "language_info": {
   "codemirror_mode": {
    "name": "ipython",
    "version": 3
   },
   "file_extension": ".py",
   "mimetype": "text/x-python",
   "name": "python",
   "nbconvert_exporter": "python",
   "pygments_lexer": "ipython3",
   "version": "3.6.5"
  }
 },
 "nbformat": 4,
 "nbformat_minor": 2
}
